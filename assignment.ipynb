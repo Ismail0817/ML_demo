{
 "cells": [
  {
   "cell_type": "code",
   "execution_count": 10,
   "metadata": {},
   "outputs": [
    {
     "data": {
      "text/plain": [
       "(  Sample    F1     F2    F3    F4    F5    F6    F7    F8     F9  ...   F77  \\\n",
       " 0     S1  3.65   9.54  3.14  3.48  4.73  3.00  3.06  3.89   3.49  ...  2.96   \n",
       " 1     S2  3.61   3.78  3.15   NaN  3.34  6.72  3.07  8.31   3.03  ...   NaN   \n",
       " 2     S3  3.33  10.08  2.92  5.60  5.73  2.92   NaN  4.05  10.56  ...  2.90   \n",
       " 3     S4  6.71   7.24  3.14  3.47   7.3  2.86  3.14  5.22   3.62  ...  2.91   \n",
       " 4     S5  5.02   8.74  3.25  8.89  8.06  2.92  3.13   5.6  10.99  ...  2.90   \n",
       " \n",
       "      F78   F79   F80   F81   F83   F85    Z1     Z2    Z3  \n",
       " 0  11.73  2.89  8.34  3.01  9.12  2.89  3.28  12.09  8.83  \n",
       " 1   3.21  2.84  3.38  3.62  2.79  3.32  6.96  11.66  7.73  \n",
       " 2   2.87  2.68  3.30  2.83   2.8  2.73   7.6    NaN  7.68  \n",
       " 3   2.91  2.82  3.45  3.06  2.66  3.08  3.59  10.67  7.64  \n",
       " 4   2.68  2.68  3.45  2.88  2.92  2.90  6.92  12.87  7.59  \n",
       " \n",
       " [5 rows x 86 columns],\n",
       "   Sample   Label\n",
       " 0     S1  Group0\n",
       " 1     S2  Group1\n",
       " 2     S3  Group1\n",
       " 3     S4  Group1\n",
       " 4     S5  Group1)"
      ]
     },
     "execution_count": 10,
     "metadata": {},
     "output_type": "execute_result"
    }
   ],
   "source": [
    "import pandas as pd\n",
    "\n",
    "# Load the Excel file\n",
    "file_path = 'test_data.xlsx'\n",
    "data_df = pd.read_excel(file_path, sheet_name='data')\n",
    "labels_df = pd.read_excel(file_path, sheet_name='labels')\n",
    "\n",
    "# Display the first few rows of each sheet\n",
    "data_df.head(), labels_df.head()"
   ]
  },
  {
   "cell_type": "code",
   "execution_count": 6,
   "metadata": {},
   "outputs": [
    {
     "data": {
      "text/html": [
       "<div>\n",
       "<style scoped>\n",
       "    .dataframe tbody tr th:only-of-type {\n",
       "        vertical-align: middle;\n",
       "    }\n",
       "\n",
       "    .dataframe tbody tr th {\n",
       "        vertical-align: top;\n",
       "    }\n",
       "\n",
       "    .dataframe thead th {\n",
       "        text-align: right;\n",
       "    }\n",
       "</style>\n",
       "<table border=\"1\" class=\"dataframe\">\n",
       "  <thead>\n",
       "    <tr style=\"text-align: right;\">\n",
       "      <th></th>\n",
       "      <th>Sample</th>\n",
       "      <th>Label</th>\n",
       "    </tr>\n",
       "  </thead>\n",
       "  <tbody>\n",
       "    <tr>\n",
       "      <th>0</th>\n",
       "      <td>S1</td>\n",
       "      <td>Group0</td>\n",
       "    </tr>\n",
       "    <tr>\n",
       "      <th>1</th>\n",
       "      <td>S2</td>\n",
       "      <td>Group1</td>\n",
       "    </tr>\n",
       "    <tr>\n",
       "      <th>2</th>\n",
       "      <td>S3</td>\n",
       "      <td>Group1</td>\n",
       "    </tr>\n",
       "    <tr>\n",
       "      <th>3</th>\n",
       "      <td>S4</td>\n",
       "      <td>Group1</td>\n",
       "    </tr>\n",
       "    <tr>\n",
       "      <th>4</th>\n",
       "      <td>S5</td>\n",
       "      <td>Group1</td>\n",
       "    </tr>\n",
       "  </tbody>\n",
       "</table>\n",
       "</div>"
      ],
      "text/plain": [
       "  Sample   Label\n",
       "0     S1  Group0\n",
       "1     S2  Group1\n",
       "2     S3  Group1\n",
       "3     S4  Group1\n",
       "4     S5  Group1"
      ]
     },
     "execution_count": 6,
     "metadata": {},
     "output_type": "execute_result"
    }
   ],
   "source": [
    "labels_df.head()"
   ]
  },
  {
   "cell_type": "code",
   "execution_count": 12,
   "metadata": {},
   "outputs": [
    {
     "data": {
      "text/plain": [
       "F1     41\n",
       "F2     47\n",
       "F3     30\n",
       "F4     49\n",
       "F5     42\n",
       "       ..\n",
       "F83    45\n",
       "F85    43\n",
       "Z1     39\n",
       "Z2     42\n",
       "Z3     42\n",
       "Length: 85, dtype: int64"
      ]
     },
     "execution_count": 12,
     "metadata": {},
     "output_type": "execute_result"
    }
   ],
   "source": [
    "missing_data_counts = data_df.isnull().sum()\n",
    "missing_data_counts[missing_data_counts > 0]"
   ]
  },
  {
   "cell_type": "code",
   "execution_count": 24,
   "metadata": {},
   "outputs": [
    {
     "name": "stdout",
     "output_type": "stream",
     "text": [
      "<class 'pandas.core.frame.DataFrame'>\n",
      "RangeIndex: 804 entries, 0 to 803\n",
      "Data columns (total 86 columns):\n",
      " #   Column  Non-Null Count  Dtype  \n",
      "---  ------  --------------  -----  \n",
      " 0   Sample  804 non-null    object \n",
      " 1   F1      763 non-null    float64\n",
      " 2   F2      757 non-null    float64\n",
      " 3   F3      774 non-null    object \n",
      " 4   F4      755 non-null    float64\n",
      " 5   F5      762 non-null    object \n",
      " 6   F6      780 non-null    float64\n",
      " 7   F7      762 non-null    object \n",
      " 8   F8      758 non-null    object \n",
      " 9   F9      765 non-null    object \n",
      " 10  F10     773 non-null    object \n",
      " 11  F11     769 non-null    object \n",
      " 12  F12     763 non-null    object \n",
      " 13  F13     767 non-null    object \n",
      " 14  F14     755 non-null    float64\n",
      " 15  F15     755 non-null    float64\n",
      " 16  F16     771 non-null    float64\n",
      " 17  F17     768 non-null    object \n",
      " 18  F18     761 non-null    float64\n",
      " 19  F19     755 non-null    object \n",
      " 20  F20     760 non-null    float64\n",
      " 21  F21     758 non-null    object \n",
      " 22  F22     759 non-null    float64\n",
      " 23  F23     757 non-null    float64\n",
      " 24  F24     756 non-null    object \n",
      " 25  F25     763 non-null    object \n",
      " 26  F26     757 non-null    float64\n",
      " 27  F27     769 non-null    float64\n",
      " 28  F28     761 non-null    float64\n",
      " 29  F29     768 non-null    object \n",
      " 30  F30     765 non-null    float64\n",
      " 31  F31     777 non-null    float64\n",
      " 32  F32     778 non-null    object \n",
      " 33  F33     756 non-null    float64\n",
      " 34  F34     758 non-null    float64\n",
      " 35  F35     765 non-null    object \n",
      " 36  F36     765 non-null    object \n",
      " 37  F37     773 non-null    float64\n",
      " 38  F38     764 non-null    object \n",
      " 39  F39     772 non-null    float64\n",
      " 40  F40     757 non-null    object \n",
      " 41  F41     764 non-null    float64\n",
      " 42  F42     771 non-null    float64\n",
      " 43  F43     757 non-null    float64\n",
      " 44  F44     750 non-null    float64\n",
      " 45  F45     784 non-null    float64\n",
      " 46  F46     761 non-null    float64\n",
      " 47  F47     765 non-null    float64\n",
      " 48  F48     760 non-null    object \n",
      " 49  F49     762 non-null    float64\n",
      " 50  F50     767 non-null    float64\n",
      " 51  F51     767 non-null    object \n",
      " 52  F52     766 non-null    object \n",
      " 53  F53     764 non-null    object \n",
      " 54  F54     758 non-null    float64\n",
      " 55  F55     767 non-null    float64\n",
      " 56  F56     765 non-null    object \n",
      " 57  F57     767 non-null    float64\n",
      " 58  F58     769 non-null    float64\n",
      " 59  F59     761 non-null    float64\n",
      " 60  F60     765 non-null    object \n",
      " 61  F61     760 non-null    object \n",
      " 62  F62     776 non-null    object \n",
      " 63  F63     757 non-null    float64\n",
      " 64  F64     779 non-null    float64\n",
      " 65  F65     765 non-null    float64\n",
      " 66  F66     763 non-null    object \n",
      " 67  F67     766 non-null    float64\n",
      " 68  F68     766 non-null    object \n",
      " 69  F70     765 non-null    float64\n",
      " 70  F71     764 non-null    object \n",
      " 71  F72     768 non-null    float64\n",
      " 72  F73     759 non-null    object \n",
      " 73  F74     758 non-null    float64\n",
      " 74  F75     764 non-null    object \n",
      " 75  F76     760 non-null    float64\n",
      " 76  F77     774 non-null    float64\n",
      " 77  F78     757 non-null    object \n",
      " 78  F79     749 non-null    object \n",
      " 79  F80     761 non-null    float64\n",
      " 80  F81     766 non-null    object \n",
      " 81  F83     759 non-null    object \n",
      " 82  F85     761 non-null    float64\n",
      " 83  Z1      765 non-null    object \n",
      " 84  Z2      762 non-null    float64\n",
      " 85  Z3      762 non-null    float64\n",
      "dtypes: float64(47), object(39)\n",
      "memory usage: 540.3+ KB\n"
     ]
    }
   ],
   "source": [
    "data_df.info()"
   ]
  },
  {
   "cell_type": "code",
   "execution_count": 29,
   "metadata": {},
   "outputs": [
    {
     "data": {
      "text/plain": [
       "Sample    False\n",
       "F1         True\n",
       "F2         True\n",
       "F3         True\n",
       "F4         True\n",
       "          ...  \n",
       "F83        True\n",
       "F85        True\n",
       "Z1         True\n",
       "Z2         True\n",
       "Z3         True\n",
       "Length: 86, dtype: bool"
      ]
     },
     "execution_count": 29,
     "metadata": {},
     "output_type": "execute_result"
    }
   ],
   "source": [
    "data_df.isnull().any()"
   ]
  },
  {
   "cell_type": "code",
   "execution_count": 14,
   "metadata": {},
   "outputs": [
    {
     "name": "stdout",
     "output_type": "stream",
     "text": [
      "Missing values per column:\n",
      "Sample     0\n",
      "F1        41\n",
      "F2        47\n",
      "F3        30\n",
      "F4        49\n",
      "          ..\n",
      "F83       45\n",
      "F85       43\n",
      "Z1        39\n",
      "Z2        42\n",
      "Z3        42\n",
      "Length: 86, dtype: int64\n",
      "\n",
      "Percentage of missing values per column:\n",
      "Sample    0.000000\n",
      "F1        5.099502\n",
      "F2        5.845771\n",
      "F3        3.731343\n",
      "F4        6.094527\n",
      "            ...   \n",
      "F83       5.597015\n",
      "F85       5.348259\n",
      "Z1        4.850746\n",
      "Z2        5.223881\n",
      "Z3        5.223881\n",
      "Length: 86, dtype: float64\n"
     ]
    }
   ],
   "source": [
    "# Checking for missing values\n",
    "missing_values = data_df.isnull().sum()\n",
    "print(\"Missing values per column:\")\n",
    "print(missing_values)\n",
    "\n",
    "# To check the percentage of missing data per column\n",
    "missing_percentage = data_df.isnull().mean() * 100\n",
    "print(\"\\nPercentage of missing values per column:\")\n",
    "print(missing_percentage)"
   ]
  },
  {
   "cell_type": "markdown",
   "metadata": {},
   "source": [
    "We can see that there are a missing values in the dataset. So we need to takecare of this. as all of the columns have missing values we need to impute the values rather deleting the rows containing the missing values. "
   ]
  },
  {
   "cell_type": "code",
   "execution_count": 16,
   "metadata": {},
   "outputs": [
    {
     "ename": "ValueError",
     "evalue": "Cannot use median strategy with non-numeric data:\ncould not convert string to float: '#value'",
     "output_type": "error",
     "traceback": [
      "\u001b[0;31m---------------------------------------------------------------------------\u001b[0m",
      "\u001b[0;31mValueError\u001b[0m                                Traceback (most recent call last)",
      "Cell \u001b[0;32mIn[16], line 7\u001b[0m\n\u001b[1;32m      4\u001b[0m imputer \u001b[38;5;241m=\u001b[39m SimpleImputer(strategy\u001b[38;5;241m=\u001b[39m\u001b[38;5;124m'\u001b[39m\u001b[38;5;124mmedian\u001b[39m\u001b[38;5;124m'\u001b[39m)\n\u001b[1;32m      6\u001b[0m \u001b[38;5;66;03m# Impute missing values in the data\u001b[39;00m\n\u001b[0;32m----> 7\u001b[0m imputed_data_df \u001b[38;5;241m=\u001b[39m pd\u001b[38;5;241m.\u001b[39mDataFrame(\u001b[43mimputer\u001b[49m\u001b[38;5;241;43m.\u001b[39;49m\u001b[43mfit_transform\u001b[49m\u001b[43m(\u001b[49m\u001b[43mdata_df\u001b[49m\u001b[38;5;241;43m.\u001b[39;49m\u001b[43mdrop\u001b[49m\u001b[43m(\u001b[49m\u001b[43mcolumns\u001b[49m\u001b[38;5;241;43m=\u001b[39;49m\u001b[43m[\u001b[49m\u001b[38;5;124;43m'\u001b[39;49m\u001b[38;5;124;43mSample\u001b[39;49m\u001b[38;5;124;43m'\u001b[39;49m\u001b[43m]\u001b[49m\u001b[43m)\u001b[49m\u001b[43m)\u001b[49m, columns\u001b[38;5;241m=\u001b[39mdata_df\u001b[38;5;241m.\u001b[39mcolumns[\u001b[38;5;241m1\u001b[39m:])\n\u001b[1;32m      9\u001b[0m \u001b[38;5;66;03m# Add the 'Sample' column back\u001b[39;00m\n\u001b[1;32m     10\u001b[0m imputed_data_df\u001b[38;5;241m.\u001b[39minsert(\u001b[38;5;241m0\u001b[39m, \u001b[38;5;124m'\u001b[39m\u001b[38;5;124mSample\u001b[39m\u001b[38;5;124m'\u001b[39m, data_df[\u001b[38;5;124m'\u001b[39m\u001b[38;5;124mSample\u001b[39m\u001b[38;5;124m'\u001b[39m])\n",
      "File \u001b[0;32m~/Documents/GitHub/ML_demo/venv/lib/python3.10/site-packages/sklearn/utils/_set_output.py:313\u001b[0m, in \u001b[0;36m_wrap_method_output.<locals>.wrapped\u001b[0;34m(self, X, *args, **kwargs)\u001b[0m\n\u001b[1;32m    311\u001b[0m \u001b[38;5;129m@wraps\u001b[39m(f)\n\u001b[1;32m    312\u001b[0m \u001b[38;5;28;01mdef\u001b[39;00m \u001b[38;5;21mwrapped\u001b[39m(\u001b[38;5;28mself\u001b[39m, X, \u001b[38;5;241m*\u001b[39margs, \u001b[38;5;241m*\u001b[39m\u001b[38;5;241m*\u001b[39mkwargs):\n\u001b[0;32m--> 313\u001b[0m     data_to_wrap \u001b[38;5;241m=\u001b[39m \u001b[43mf\u001b[49m\u001b[43m(\u001b[49m\u001b[38;5;28;43mself\u001b[39;49m\u001b[43m,\u001b[49m\u001b[43m \u001b[49m\u001b[43mX\u001b[49m\u001b[43m,\u001b[49m\u001b[43m \u001b[49m\u001b[38;5;241;43m*\u001b[39;49m\u001b[43margs\u001b[49m\u001b[43m,\u001b[49m\u001b[43m \u001b[49m\u001b[38;5;241;43m*\u001b[39;49m\u001b[38;5;241;43m*\u001b[39;49m\u001b[43mkwargs\u001b[49m\u001b[43m)\u001b[49m\n\u001b[1;32m    314\u001b[0m     \u001b[38;5;28;01mif\u001b[39;00m \u001b[38;5;28misinstance\u001b[39m(data_to_wrap, \u001b[38;5;28mtuple\u001b[39m):\n\u001b[1;32m    315\u001b[0m         \u001b[38;5;66;03m# only wrap the first output for cross decomposition\u001b[39;00m\n\u001b[1;32m    316\u001b[0m         return_tuple \u001b[38;5;241m=\u001b[39m (\n\u001b[1;32m    317\u001b[0m             _wrap_data_with_container(method, data_to_wrap[\u001b[38;5;241m0\u001b[39m], X, \u001b[38;5;28mself\u001b[39m),\n\u001b[1;32m    318\u001b[0m             \u001b[38;5;241m*\u001b[39mdata_to_wrap[\u001b[38;5;241m1\u001b[39m:],\n\u001b[1;32m    319\u001b[0m         )\n",
      "File \u001b[0;32m~/Documents/GitHub/ML_demo/venv/lib/python3.10/site-packages/sklearn/base.py:1098\u001b[0m, in \u001b[0;36mTransformerMixin.fit_transform\u001b[0;34m(self, X, y, **fit_params)\u001b[0m\n\u001b[1;32m   1083\u001b[0m         warnings\u001b[38;5;241m.\u001b[39mwarn(\n\u001b[1;32m   1084\u001b[0m             (\n\u001b[1;32m   1085\u001b[0m                 \u001b[38;5;124mf\u001b[39m\u001b[38;5;124m\"\u001b[39m\u001b[38;5;124mThis object (\u001b[39m\u001b[38;5;132;01m{\u001b[39;00m\u001b[38;5;28mself\u001b[39m\u001b[38;5;241m.\u001b[39m\u001b[38;5;18m__class__\u001b[39m\u001b[38;5;241m.\u001b[39m\u001b[38;5;18m__name__\u001b[39m\u001b[38;5;132;01m}\u001b[39;00m\u001b[38;5;124m) has a `transform`\u001b[39m\u001b[38;5;124m\"\u001b[39m\n\u001b[0;32m   (...)\u001b[0m\n\u001b[1;32m   1093\u001b[0m             \u001b[38;5;167;01mUserWarning\u001b[39;00m,\n\u001b[1;32m   1094\u001b[0m         )\n\u001b[1;32m   1096\u001b[0m \u001b[38;5;28;01mif\u001b[39;00m y \u001b[38;5;129;01mis\u001b[39;00m \u001b[38;5;28;01mNone\u001b[39;00m:\n\u001b[1;32m   1097\u001b[0m     \u001b[38;5;66;03m# fit method of arity 1 (unsupervised transformation)\u001b[39;00m\n\u001b[0;32m-> 1098\u001b[0m     \u001b[38;5;28;01mreturn\u001b[39;00m \u001b[38;5;28;43mself\u001b[39;49m\u001b[38;5;241;43m.\u001b[39;49m\u001b[43mfit\u001b[49m\u001b[43m(\u001b[49m\u001b[43mX\u001b[49m\u001b[43m,\u001b[49m\u001b[43m \u001b[49m\u001b[38;5;241;43m*\u001b[39;49m\u001b[38;5;241;43m*\u001b[39;49m\u001b[43mfit_params\u001b[49m\u001b[43m)\u001b[49m\u001b[38;5;241m.\u001b[39mtransform(X)\n\u001b[1;32m   1099\u001b[0m \u001b[38;5;28;01melse\u001b[39;00m:\n\u001b[1;32m   1100\u001b[0m     \u001b[38;5;66;03m# fit method of arity 2 (supervised transformation)\u001b[39;00m\n\u001b[1;32m   1101\u001b[0m     \u001b[38;5;28;01mreturn\u001b[39;00m \u001b[38;5;28mself\u001b[39m\u001b[38;5;241m.\u001b[39mfit(X, y, \u001b[38;5;241m*\u001b[39m\u001b[38;5;241m*\u001b[39mfit_params)\u001b[38;5;241m.\u001b[39mtransform(X)\n",
      "File \u001b[0;32m~/Documents/GitHub/ML_demo/venv/lib/python3.10/site-packages/sklearn/base.py:1473\u001b[0m, in \u001b[0;36m_fit_context.<locals>.decorator.<locals>.wrapper\u001b[0;34m(estimator, *args, **kwargs)\u001b[0m\n\u001b[1;32m   1466\u001b[0m     estimator\u001b[38;5;241m.\u001b[39m_validate_params()\n\u001b[1;32m   1468\u001b[0m \u001b[38;5;28;01mwith\u001b[39;00m config_context(\n\u001b[1;32m   1469\u001b[0m     skip_parameter_validation\u001b[38;5;241m=\u001b[39m(\n\u001b[1;32m   1470\u001b[0m         prefer_skip_nested_validation \u001b[38;5;129;01mor\u001b[39;00m global_skip_validation\n\u001b[1;32m   1471\u001b[0m     )\n\u001b[1;32m   1472\u001b[0m ):\n\u001b[0;32m-> 1473\u001b[0m     \u001b[38;5;28;01mreturn\u001b[39;00m \u001b[43mfit_method\u001b[49m\u001b[43m(\u001b[49m\u001b[43mestimator\u001b[49m\u001b[43m,\u001b[49m\u001b[43m \u001b[49m\u001b[38;5;241;43m*\u001b[39;49m\u001b[43margs\u001b[49m\u001b[43m,\u001b[49m\u001b[43m \u001b[49m\u001b[38;5;241;43m*\u001b[39;49m\u001b[38;5;241;43m*\u001b[39;49m\u001b[43mkwargs\u001b[49m\u001b[43m)\u001b[49m\n",
      "File \u001b[0;32m~/Documents/GitHub/ML_demo/venv/lib/python3.10/site-packages/sklearn/impute/_base.py:421\u001b[0m, in \u001b[0;36mSimpleImputer.fit\u001b[0;34m(self, X, y)\u001b[0m\n\u001b[1;32m    403\u001b[0m \u001b[38;5;129m@_fit_context\u001b[39m(prefer_skip_nested_validation\u001b[38;5;241m=\u001b[39m\u001b[38;5;28;01mTrue\u001b[39;00m)\n\u001b[1;32m    404\u001b[0m \u001b[38;5;28;01mdef\u001b[39;00m \u001b[38;5;21mfit\u001b[39m(\u001b[38;5;28mself\u001b[39m, X, y\u001b[38;5;241m=\u001b[39m\u001b[38;5;28;01mNone\u001b[39;00m):\n\u001b[1;32m    405\u001b[0m \u001b[38;5;250m    \u001b[39m\u001b[38;5;124;03m\"\"\"Fit the imputer on `X`.\u001b[39;00m\n\u001b[1;32m    406\u001b[0m \n\u001b[1;32m    407\u001b[0m \u001b[38;5;124;03m    Parameters\u001b[39;00m\n\u001b[0;32m   (...)\u001b[0m\n\u001b[1;32m    419\u001b[0m \u001b[38;5;124;03m        Fitted estimator.\u001b[39;00m\n\u001b[1;32m    420\u001b[0m \u001b[38;5;124;03m    \"\"\"\u001b[39;00m\n\u001b[0;32m--> 421\u001b[0m     X \u001b[38;5;241m=\u001b[39m \u001b[38;5;28;43mself\u001b[39;49m\u001b[38;5;241;43m.\u001b[39;49m\u001b[43m_validate_input\u001b[49m\u001b[43m(\u001b[49m\u001b[43mX\u001b[49m\u001b[43m,\u001b[49m\u001b[43m \u001b[49m\u001b[43min_fit\u001b[49m\u001b[38;5;241;43m=\u001b[39;49m\u001b[38;5;28;43;01mTrue\u001b[39;49;00m\u001b[43m)\u001b[49m\n\u001b[1;32m    423\u001b[0m     \u001b[38;5;66;03m# default fill_value is 0 for numerical input and \"missing_value\"\u001b[39;00m\n\u001b[1;32m    424\u001b[0m     \u001b[38;5;66;03m# otherwise\u001b[39;00m\n\u001b[1;32m    425\u001b[0m     \u001b[38;5;28;01mif\u001b[39;00m \u001b[38;5;28mself\u001b[39m\u001b[38;5;241m.\u001b[39mfill_value \u001b[38;5;129;01mis\u001b[39;00m \u001b[38;5;28;01mNone\u001b[39;00m:\n",
      "File \u001b[0;32m~/Documents/GitHub/ML_demo/venv/lib/python3.10/site-packages/sklearn/impute/_base.py:348\u001b[0m, in \u001b[0;36mSimpleImputer._validate_input\u001b[0;34m(self, X, in_fit)\u001b[0m\n\u001b[1;32m    342\u001b[0m \u001b[38;5;28;01mif\u001b[39;00m \u001b[38;5;124m\"\u001b[39m\u001b[38;5;124mcould not convert\u001b[39m\u001b[38;5;124m\"\u001b[39m \u001b[38;5;129;01min\u001b[39;00m \u001b[38;5;28mstr\u001b[39m(ve):\n\u001b[1;32m    343\u001b[0m     new_ve \u001b[38;5;241m=\u001b[39m \u001b[38;5;167;01mValueError\u001b[39;00m(\n\u001b[1;32m    344\u001b[0m         \u001b[38;5;124m\"\u001b[39m\u001b[38;5;124mCannot use \u001b[39m\u001b[38;5;132;01m{}\u001b[39;00m\u001b[38;5;124m strategy with non-numeric data:\u001b[39m\u001b[38;5;130;01m\\n\u001b[39;00m\u001b[38;5;132;01m{}\u001b[39;00m\u001b[38;5;124m\"\u001b[39m\u001b[38;5;241m.\u001b[39mformat(\n\u001b[1;32m    345\u001b[0m             \u001b[38;5;28mself\u001b[39m\u001b[38;5;241m.\u001b[39mstrategy, ve\n\u001b[1;32m    346\u001b[0m         )\n\u001b[1;32m    347\u001b[0m     )\n\u001b[0;32m--> 348\u001b[0m     \u001b[38;5;28;01mraise\u001b[39;00m new_ve \u001b[38;5;28;01mfrom\u001b[39;00m \u001b[38;5;28;01mNone\u001b[39;00m\n\u001b[1;32m    349\u001b[0m \u001b[38;5;28;01melse\u001b[39;00m:\n\u001b[1;32m    350\u001b[0m     \u001b[38;5;28;01mraise\u001b[39;00m ve\n",
      "\u001b[0;31mValueError\u001b[0m: Cannot use median strategy with non-numeric data:\ncould not convert string to float: '#value'"
     ]
    }
   ],
   "source": [
    "from sklearn.impute import SimpleImputer\n",
    "\n",
    "# Create a SimpleImputer for median imputation\n",
    "imputer = SimpleImputer(strategy='median')\n",
    "\n",
    "# Impute missing values in the data\n",
    "imputed_data_df = pd.DataFrame(imputer.fit_transform(data_df.drop(columns=['Sample'])), columns=data_df.columns[1:])\n",
    "\n",
    "# Add the 'Sample' column back\n",
    "imputed_data_df.insert(0, 'Sample', data_df['Sample'])\n",
    "\n",
    "imputed_data_df.head()"
   ]
  },
  {
   "cell_type": "code",
   "execution_count": null,
   "metadata": {},
   "outputs": [],
   "source": []
  },
  {
   "cell_type": "code",
   "execution_count": 17,
   "metadata": {},
   "outputs": [
    {
     "ename": "IndexError",
     "evalue": "boolean index did not match indexed array along axis 0; size of axis is 86 but size of corresponding boolean axis is 85",
     "output_type": "error",
     "traceback": [
      "\u001b[0;31m---------------------------------------------------------------------------\u001b[0m",
      "\u001b[0;31mIndexError\u001b[0m                                Traceback (most recent call last)",
      "Cell \u001b[0;32mIn[17], line 2\u001b[0m\n\u001b[1;32m      1\u001b[0m \u001b[38;5;66;03m# Check for non-numeric data\u001b[39;00m\n\u001b[0;32m----> 2\u001b[0m non_numeric_cols \u001b[38;5;241m=\u001b[39m \u001b[43mdata_df\u001b[49m\u001b[38;5;241;43m.\u001b[39;49m\u001b[43mcolumns\u001b[49m\u001b[43m[\u001b[49m\u001b[43mdata_df\u001b[49m\u001b[38;5;241;43m.\u001b[39;49m\u001b[43mdrop\u001b[49m\u001b[43m(\u001b[49m\u001b[43mcolumns\u001b[49m\u001b[38;5;241;43m=\u001b[39;49m\u001b[43m[\u001b[49m\u001b[38;5;124;43m'\u001b[39;49m\u001b[38;5;124;43mSample\u001b[39;49m\u001b[38;5;124;43m'\u001b[39;49m\u001b[43m]\u001b[49m\u001b[43m)\u001b[49m\u001b[38;5;241;43m.\u001b[39;49m\u001b[43mapply\u001b[49m\u001b[43m(\u001b[49m\u001b[38;5;28;43;01mlambda\u001b[39;49;00m\u001b[43m \u001b[49m\u001b[43mx\u001b[49m\u001b[43m:\u001b[49m\u001b[43m \u001b[49m\u001b[43mpd\u001b[49m\u001b[38;5;241;43m.\u001b[39;49m\u001b[43mto_numeric\u001b[49m\u001b[43m(\u001b[49m\u001b[43mx\u001b[49m\u001b[43m,\u001b[49m\u001b[43m \u001b[49m\u001b[43merrors\u001b[49m\u001b[38;5;241;43m=\u001b[39;49m\u001b[38;5;124;43m'\u001b[39;49m\u001b[38;5;124;43mcoerce\u001b[39;49m\u001b[38;5;124;43m'\u001b[39;49m\u001b[43m)\u001b[49m\u001b[38;5;241;43m.\u001b[39;49m\u001b[43misna\u001b[49m\u001b[43m(\u001b[49m\u001b[43m)\u001b[49m\u001b[38;5;241;43m.\u001b[39;49m\u001b[43many\u001b[49m\u001b[43m(\u001b[49m\u001b[43m)\u001b[49m\u001b[43m)\u001b[49m\u001b[43m]\u001b[49m\n\u001b[1;32m      3\u001b[0m non_numeric_cols\n",
      "File \u001b[0;32m~/Documents/GitHub/ML_demo/venv/lib/python3.10/site-packages/pandas/core/indexes/base.py:5416\u001b[0m, in \u001b[0;36mIndex.__getitem__\u001b[0;34m(self, key)\u001b[0m\n\u001b[1;32m   5407\u001b[0m         \u001b[38;5;28;01mif\u001b[39;00m \u001b[38;5;28mlen\u001b[39m(key) \u001b[38;5;241m==\u001b[39m \u001b[38;5;241m0\u001b[39m \u001b[38;5;129;01mand\u001b[39;00m \u001b[38;5;28mlen\u001b[39m(key) \u001b[38;5;241m!=\u001b[39m \u001b[38;5;28mlen\u001b[39m(\u001b[38;5;28mself\u001b[39m):\n\u001b[1;32m   5408\u001b[0m             warnings\u001b[38;5;241m.\u001b[39mwarn(\n\u001b[1;32m   5409\u001b[0m                 \u001b[38;5;124m\"\u001b[39m\u001b[38;5;124mUsing a boolean indexer with length 0 on an Index with \u001b[39m\u001b[38;5;124m\"\u001b[39m\n\u001b[1;32m   5410\u001b[0m                 \u001b[38;5;124m\"\u001b[39m\u001b[38;5;124mlength greater than 0 is deprecated and will raise in a \u001b[39m\u001b[38;5;124m\"\u001b[39m\n\u001b[0;32m   (...)\u001b[0m\n\u001b[1;32m   5413\u001b[0m                 stacklevel\u001b[38;5;241m=\u001b[39mfind_stack_level(),\n\u001b[1;32m   5414\u001b[0m             )\n\u001b[0;32m-> 5416\u001b[0m result \u001b[38;5;241m=\u001b[39m \u001b[43mgetitem\u001b[49m\u001b[43m(\u001b[49m\u001b[43mkey\u001b[49m\u001b[43m)\u001b[49m\n\u001b[1;32m   5417\u001b[0m \u001b[38;5;66;03m# Because we ruled out integer above, we always get an arraylike here\u001b[39;00m\n\u001b[1;32m   5418\u001b[0m \u001b[38;5;28;01mif\u001b[39;00m result\u001b[38;5;241m.\u001b[39mndim \u001b[38;5;241m>\u001b[39m \u001b[38;5;241m1\u001b[39m:\n",
      "\u001b[0;31mIndexError\u001b[0m: boolean index did not match indexed array along axis 0; size of axis is 86 but size of corresponding boolean axis is 85"
     ]
    }
   ],
   "source": [
    "# Check for non-numeric data\n",
    "non_numeric_cols = data_df.columns[data_df.drop(columns=['Sample']).apply(lambda x: pd.to_numeric(x, errors='coerce').isna().any())]\n",
    "non_numeric_cols"
   ]
  },
  {
   "cell_type": "code",
   "execution_count": 35,
   "metadata": {},
   "outputs": [
    {
     "name": "stdout",
     "output_type": "stream",
     "text": [
      "[3.89 8.31 4.05 5.22 5.6 3.47 4.44 10.13 6.05 5.63 4.5 9.36 4.51 5.64 4.42\n",
      " 6.61 3.79 3.73 4.52 3.7 nan 7.16 7.05 8.51 8.48 6.45 4.3 5.86 6.6 6.11\n",
      " 9.37 4.01 9.15 8.25 9.85 3.88 3.49 10.92 4.69 4.43 4.22 5.06 4.56 4.55\n",
      " 5.28 7.19 6.98 6.19 3.92 4.86 6.8 5.15 6.63 4.09 7.81 6.44 9.92 4.53 4.58\n",
      " 6.69 6.54 4.02 5.36 8.39 7.53 4.84 4.82 4.15 7.01 6.47 8.22 10.85 4.13\n",
      " 8.2 8.47 6.24 3.55 5.46 3.11 6.29 6.89 3.51 5.33 4.63 3.81 6.26 4.37 4.61\n",
      " 4.24 4.76 8.28 4.92 6.12 3.95 5.83 5.54 8.18 7 5.16 5.88 3.62 4.47 4.14\n",
      " 3.64 7.12 7.69 3.96 6.56 9.51 3.61 4.18 6.91 8.63 6.49 4.57 7.31 3.83\n",
      " 7.04 5.25 10.73 3.72 6.95 6.01 3.87 4.77 4.27 8.26 3.99 4.03 9.02 4 4.06\n",
      " 4.36 7.98 8.07 7.07 4.66 4.39 9.47 10.75 4.64 4.12 4.41 12.06 4.72 4.71\n",
      " '#value' 5.74 7.73 9.32 3.35 3.98 9.56 3.76 9.53 6.14 6.62 4.65 6.93 4.07\n",
      " 9.41 6.25 6.64 6.83 4.28 5.08 6.22 5.49 3.75 4.1 5.84 6.06 3.45 5.19\n",
      " 10.62 3.5 3.58 10.42 7.51 3.86 5.23 4.34 5.04 9.93 5.78 3.82 5.75 8.81\n",
      " 4.2 6.57 4.08 3.57 3.9 4.89 7.47 4.75 9.89 10.08 4.11 6.99 5.98 7.94 4.95\n",
      " 4.97 7.24 3.67 5.55 12.31 4.96 3.84 5.92 3.68 4.67 6.97 7.38 4.54 5.41\n",
      " 11.47 3.78 11.11 5.89 9.77 4.59 5.03 12.38 3.15 5.97 4.91 6.3 3.52 3.39\n",
      " 3.38 10.28 7.71 5.26 3.85 7.14 4.35 3.66 3.71 7.21 8.35 4.46 4.9 10.27\n",
      " 4.23 6.67 4.38 5.14 3.42 5.61 5.7 3.77 7.37 8.12 5.37 4.21 3.93 4.78 4.19\n",
      " 9.9 4.26 4.68 5.96 7.4 8.02 3.63 4.99 6.65 11.79 4.87 5.38 4.29 3.8 9.86\n",
      " 4.45 3.54 7.58 4.8 5.48 3.97 6.37 6.35 9.68 4.94 6.07 6.79 4.31 4.32\n",
      " 10.63 7.6 5.82 6.28 3.32 5.65 5.09 5.35 3.56 4.88 5.57 11.38 9.23 7.22\n",
      " 5.72 7.5 3.28 6.46 3.43 6.7 9.66 8.97 10.9 11.32 3.37 5.62 3.29 5.51 7.27\n",
      " 5.9 5.07 7.59 7.84 9.8 3.59 3.69 9.82 10.76 6.55 5.69 9.79 6.23 7.29 7.35\n",
      " 3.74 7.32 7.62 5.93 4.93 6.15 6.42 7.25 5.12 5.4 10.6 6.1 3.91 7.79 11.63\n",
      " 7.23 4.48 7.66 7.78 11.35 10.84 7.36 4.85 5.71 5.81 7.39 8.04 11.73 3.23\n",
      " 4.62 4.33 5.42 7.64 6.32 8.17 3.36 12.96 3.4 3.94 8.37 11.89 8.16 6.39\n",
      " 3.31 3.6 6.73 6.18 7.67 10.34 5.11 4.25 9.27 6.78 6.48 8.38 5.39 4.83\n",
      " 12.16 10.31 8.09 5.95 3.34 5.31 4.04 7.92 3.46 8.55 5.87 3.53 6]\n"
     ]
    }
   ],
   "source": [
    "print(data_df['F8'].unique())"
   ]
  }
 ],
 "metadata": {
  "kernelspec": {
   "display_name": "Python 3",
   "language": "python",
   "name": "python3"
  },
  "language_info": {
   "codemirror_mode": {
    "name": "ipython",
    "version": 3
   },
   "file_extension": ".py",
   "mimetype": "text/x-python",
   "name": "python",
   "nbconvert_exporter": "python",
   "pygments_lexer": "ipython3",
   "version": "3.10.7"
  }
 },
 "nbformat": 4,
 "nbformat_minor": 2
}
