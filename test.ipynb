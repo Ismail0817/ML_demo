{
 "cells": [
  {
   "cell_type": "code",
   "execution_count": 9,
   "metadata": {},
   "outputs": [
    {
     "data": {
      "text/plain": [
       "(  Sample    F1     F2    F3    F4    F5    F6    F7    F8     F9  ...   F77  \\\n",
       " 0     S1  3.65   9.54  3.14  3.48  4.73  3.00  3.06  3.89   3.49  ...  2.96   \n",
       " 1     S2  3.61   3.78  3.15   NaN  3.34  6.72  3.07  8.31   3.03  ...   NaN   \n",
       " 2     S3  3.33  10.08  2.92  5.60  5.73  2.92   NaN  4.05  10.56  ...  2.90   \n",
       " 3     S4  6.71   7.24  3.14  3.47   7.3  2.86  3.14  5.22   3.62  ...  2.91   \n",
       " 4     S5  5.02   8.74  3.25  8.89  8.06  2.92  3.13   5.6  10.99  ...  2.90   \n",
       " \n",
       "      F78   F79   F80   F81   F83   F85    Z1     Z2    Z3  \n",
       " 0  11.73  2.89  8.34  3.01  9.12  2.89  3.28  12.09  8.83  \n",
       " 1   3.21  2.84  3.38  3.62  2.79  3.32  6.96  11.66  7.73  \n",
       " 2   2.87  2.68  3.30  2.83   2.8  2.73   7.6    NaN  7.68  \n",
       " 3   2.91  2.82  3.45  3.06  2.66  3.08  3.59  10.67  7.64  \n",
       " 4   2.68  2.68  3.45  2.88  2.92  2.90  6.92  12.87  7.59  \n",
       " \n",
       " [5 rows x 86 columns],\n",
       "   Sample   Label\n",
       " 0     S1  Group0\n",
       " 1     S2  Group1\n",
       " 2     S3  Group1\n",
       " 3     S4  Group1\n",
       " 4     S5  Group1,\n",
       " (804, 86),\n",
       " (804, 2))"
      ]
     },
     "execution_count": 9,
     "metadata": {},
     "output_type": "execute_result"
    }
   ],
   "source": [
    "import pandas as pd\n",
    "\n",
    "# Load the Excel file\n",
    "file_path = 'test_data.xlsx'\n",
    "data_df = pd.read_excel(file_path, sheet_name='data')\n",
    "labels_df = pd.read_excel(file_path, sheet_name='labels')\n",
    "\n",
    "# Display the first few rows of each sheet\n",
    "data_df.head(), labels_df.head(), data_df.shape, labels_df.shape"
   ]
  },
  {
   "cell_type": "code",
   "execution_count": 8,
   "metadata": {},
   "outputs": [
    {
     "name": "stdout",
     "output_type": "stream",
     "text": [
      "Missing values per column in data:\n",
      "Sample     0\n",
      "F1        41\n",
      "F2        47\n",
      "F3        30\n",
      "F4        49\n",
      "          ..\n",
      "F83       45\n",
      "F85       43\n",
      "Z1        39\n",
      "Z2        42\n",
      "Z3        42\n",
      "Length: 86, dtype: int64\n",
      "Missing values per column in labels:\n",
      "Sample    0\n",
      "Label     0\n",
      "dtype: int64\n"
     ]
    }
   ],
   "source": [
    "# Checking for missing values\n",
    "print(\"Missing values per column in data:\")\n",
    "print(data_df.isnull().sum())\n",
    "\n",
    "print(\"Missing values per column in labels:\")\n",
    "print(labels_df.isnull().sum())\n"
   ]
  },
  {
   "cell_type": "markdown",
   "metadata": {},
   "source": [
    "Here there is no missing values in the labels. But the nummber of null values in the dataset is quite high. Because almost every column has nul values. So we need to take care of it by imputation. we can not just delete the rows because the number of null values are significant (around 40 rows per column out of 804 rows)\n",
    "\n",
    "Before imputation lets the column datatypes."
   ]
  },
  {
   "cell_type": "code",
   "execution_count": 15,
   "metadata": {},
   "outputs": [
    {
     "name": "stdout",
     "output_type": "stream",
     "text": [
      "Data types in data:\n",
      "float64    47\n",
      "object     39\n",
      "Name: count, dtype: int64\n"
     ]
    }
   ],
   "source": [
    "# Checking for data types\n",
    "print(\"Data types in data:\")\n",
    "datatypes = data_df.dtypes\n",
    "print(datatypes.value_counts())"
   ]
  },
  {
   "cell_type": "markdown",
   "metadata": {},
   "source": [
    "we can see 47 of the columns have ddata types of float. and 39 have datatypes of object. when i checked the head of the dataset it seemed every  column had float values. \n",
    "\n",
    "But as we are getting object types for some columns that meeans there are some non numberic values in those colummns. lets check for non numeric values then."
   ]
  },
  {
   "cell_type": "code",
   "execution_count": 4,
   "metadata": {},
   "outputs": [
    {
     "name": "stdout",
     "output_type": "stream",
     "text": [
      "Non-numeric values found in column 'F1': [nan]\n",
      "Non-numeric values found in column 'F2': [nan]\n",
      "Non-numeric values found in column 'F3': [nan '#value']\n",
      "Non-numeric values found in column 'F4': [nan]\n",
      "Non-numeric values found in column 'F5': [nan '#value']\n",
      "Non-numeric values found in column 'F6': [nan]\n",
      "Non-numeric values found in column 'F7': [nan '#value']\n",
      "Non-numeric values found in column 'F8': [nan '#value']\n",
      "Non-numeric values found in column 'F9': [nan '#value']\n",
      "Non-numeric values found in column 'F10': [nan '#value']\n",
      "Non-numeric values found in column 'F11': [nan '#value']\n",
      "Non-numeric values found in column 'F12': [nan '#value']\n",
      "Non-numeric values found in column 'F13': [nan '#value']\n",
      "Non-numeric values found in column 'F14': [nan]\n",
      "Non-numeric values found in column 'F15': [nan]\n",
      "Non-numeric values found in column 'F16': [nan]\n",
      "Non-numeric values found in column 'F17': [nan '#value']\n",
      "Non-numeric values found in column 'F18': [nan]\n",
      "Non-numeric values found in column 'F19': [nan '#value']\n",
      "Non-numeric values found in column 'F20': [nan]\n",
      "Non-numeric values found in column 'F21': [nan '#value']\n",
      "Non-numeric values found in column 'F22': [nan]\n",
      "Non-numeric values found in column 'F23': [nan]\n",
      "Non-numeric values found in column 'F24': [nan '#value']\n",
      "Non-numeric values found in column 'F25': [nan '#value']\n",
      "Non-numeric values found in column 'F26': [nan]\n",
      "Non-numeric values found in column 'F27': [nan]\n",
      "Non-numeric values found in column 'F28': [nan]\n",
      "Non-numeric values found in column 'F29': [nan '#value']\n",
      "Non-numeric values found in column 'F30': [nan]\n",
      "Non-numeric values found in column 'F31': [nan]\n",
      "Non-numeric values found in column 'F32': [nan '#value']\n",
      "Non-numeric values found in column 'F33': [nan]\n",
      "Non-numeric values found in column 'F34': [nan]\n",
      "Non-numeric values found in column 'F35': [nan '#value']\n",
      "Non-numeric values found in column 'F36': [nan '#value']\n",
      "Non-numeric values found in column 'F37': [nan]\n",
      "Non-numeric values found in column 'F38': [nan '#value']\n",
      "Non-numeric values found in column 'F39': [nan]\n",
      "Non-numeric values found in column 'F40': [nan '#value']\n",
      "Non-numeric values found in column 'F41': [nan]\n",
      "Non-numeric values found in column 'F42': [nan]\n",
      "Non-numeric values found in column 'F43': [nan]\n",
      "Non-numeric values found in column 'F44': [nan]\n",
      "Non-numeric values found in column 'F45': [nan]\n",
      "Non-numeric values found in column 'F46': [nan]\n",
      "Non-numeric values found in column 'F47': [nan]\n",
      "Non-numeric values found in column 'F48': [nan '#value']\n",
      "Non-numeric values found in column 'F49': [nan]\n",
      "Non-numeric values found in column 'F50': [nan]\n",
      "Non-numeric values found in column 'F51': [nan '#value']\n",
      "Non-numeric values found in column 'F52': [nan '#value']\n",
      "Non-numeric values found in column 'F53': [nan '#value']\n",
      "Non-numeric values found in column 'F54': [nan]\n",
      "Non-numeric values found in column 'F55': [nan]\n",
      "Non-numeric values found in column 'F56': [nan '#value']\n",
      "Non-numeric values found in column 'F57': [nan]\n",
      "Non-numeric values found in column 'F58': [nan]\n",
      "Non-numeric values found in column 'F59': [nan]\n",
      "Non-numeric values found in column 'F60': [nan '#value']\n",
      "Non-numeric values found in column 'F61': [nan '#value']\n",
      "Non-numeric values found in column 'F62': [nan '#value']\n",
      "Non-numeric values found in column 'F63': [nan]\n",
      "Non-numeric values found in column 'F64': [nan]\n",
      "Non-numeric values found in column 'F65': [nan]\n",
      "Non-numeric values found in column 'F66': [nan '#value']\n",
      "Non-numeric values found in column 'F67': [nan]\n",
      "Non-numeric values found in column 'F68': [nan '#value']\n",
      "Non-numeric values found in column 'F70': [nan]\n",
      "Non-numeric values found in column 'F71': [nan '#value']\n",
      "Non-numeric values found in column 'F72': [nan]\n",
      "Non-numeric values found in column 'F73': [nan '#value']\n",
      "Non-numeric values found in column 'F74': [nan]\n",
      "Non-numeric values found in column 'F75': [nan '#value']\n",
      "Non-numeric values found in column 'F76': [nan]\n",
      "Non-numeric values found in column 'F77': [nan]\n",
      "Non-numeric values found in column 'F78': [nan '#value']\n",
      "Non-numeric values found in column 'F79': [nan '#value']\n",
      "Non-numeric values found in column 'F80': [nan]\n",
      "Non-numeric values found in column 'F81': [nan '#value']\n",
      "Non-numeric values found in column 'F83': [nan '#value']\n",
      "Non-numeric values found in column 'F85': [nan]\n",
      "Non-numeric values found in column 'Z1': [nan '#value']\n",
      "Non-numeric values found in column 'Z2': [nan]\n",
      "Non-numeric values found in column 'Z3': [nan]\n"
     ]
    }
   ],
   "source": [
    "# Define the columns to check for non-numeric values\n",
    "columns_to_check = data_df.columns[1:]\n",
    "\n",
    "# Initialize a dictionary to store non-numeric values\n",
    "non_numeric_values = {}\n",
    "\n",
    "# Iterate over the specified columns\n",
    "for col in columns_to_check:\n",
    "    # Use pd.to_numeric with errors='coerce' to convert the column to numeric, coercing errors to NaN\n",
    "    # Then, check for NaN values that indicate non-numeric entries\n",
    "    non_numeric_mask = pd.to_numeric(data_df[col], errors='coerce').isna()\n",
    "    \n",
    "    # Extract non-numeric values\n",
    "    if non_numeric_mask.any():\n",
    "        non_numeric_values[col] = data_df.loc[non_numeric_mask, col].unique()\n",
    "\n",
    "# Print non-numeric values if found\n",
    "if non_numeric_values:\n",
    "    for col, values in non_numeric_values.items():\n",
    "        print(f\"Non-numeric values found in column '{col}': {values}\")\n",
    "else:\n",
    "    print(\"No non-numeric values found in specified columns.\")"
   ]
  },
  {
   "cell_type": "markdown",
   "metadata": {},
   "source": [
    "if we check the above output then we can see the non numeric value that is creting problem is \"#value\". \n",
    "\n",
    "now lets check how value times this appears in each column. if the number is very low. we can just delete the rows."
   ]
  },
  {
   "cell_type": "code",
   "execution_count": 16,
   "metadata": {},
   "outputs": [
    {
     "name": "stdout",
     "output_type": "stream",
     "text": [
      "'#value' found in column 'F3' 1 times.\n",
      "'#value' found in column 'F5' 1 times.\n",
      "'#value' found in column 'F7' 1 times.\n",
      "'#value' found in column 'F8' 1 times.\n",
      "'#value' found in column 'F9' 1 times.\n",
      "'#value' found in column 'F10' 1 times.\n",
      "'#value' found in column 'F11' 1 times.\n",
      "'#value' found in column 'F12' 1 times.\n",
      "'#value' found in column 'F13' 1 times.\n",
      "'#value' found in column 'F17' 1 times.\n",
      "'#value' found in column 'F19' 1 times.\n",
      "'#value' found in column 'F21' 1 times.\n",
      "'#value' found in column 'F24' 1 times.\n",
      "'#value' found in column 'F25' 1 times.\n",
      "'#value' found in column 'F29' 1 times.\n",
      "'#value' found in column 'F32' 1 times.\n",
      "'#value' found in column 'F35' 1 times.\n",
      "'#value' found in column 'F36' 1 times.\n",
      "'#value' found in column 'F38' 1 times.\n",
      "'#value' found in column 'F40' 1 times.\n",
      "'#value' found in column 'F48' 1 times.\n",
      "'#value' found in column 'F51' 1 times.\n",
      "'#value' found in column 'F52' 1 times.\n",
      "'#value' found in column 'F53' 1 times.\n",
      "'#value' found in column 'F56' 1 times.\n",
      "'#value' found in column 'F60' 1 times.\n",
      "'#value' found in column 'F61' 1 times.\n",
      "'#value' found in column 'F62' 1 times.\n",
      "'#value' found in column 'F66' 1 times.\n",
      "'#value' found in column 'F68' 1 times.\n",
      "'#value' found in column 'F71' 1 times.\n",
      "'#value' found in column 'F73' 1 times.\n",
      "'#value' found in column 'F75' 1 times.\n",
      "'#value' found in column 'F78' 1 times.\n",
      "'#value' found in column 'F79' 1 times.\n",
      "'#value' found in column 'F81' 1 times.\n",
      "'#value' found in column 'F83' 1 times.\n",
      "'#value' found in column 'Z1' 1 times.\n"
     ]
    }
   ],
   "source": [
    "# Define the columns to check for non-numeric values\n",
    "columns_to_check = data_df.columns[1:]\n",
    "\n",
    "# Initialize a dictionary to store counts of \"#value\"\n",
    "value_counts = {}\n",
    "\n",
    "# Iterate over the specified columns\n",
    "for col in columns_to_check:\n",
    "    # Count the occurrences of \"#value\"\n",
    "    count = (data_df[col] == '#value').sum()\n",
    "    \n",
    "    if count > 0:\n",
    "        value_counts[col] = count\n",
    "\n",
    "# Print counts if found\n",
    "if value_counts:\n",
    "    for col, count in value_counts.items():\n",
    "        print(f\"'#value' found in column '{col}' {count} times.\")\n",
    "else:\n",
    "    print(\"No '#value' found in specified columns.\")"
   ]
  },
  {
   "cell_type": "markdown",
   "metadata": {},
   "source": [
    "we can see \"#value\" occures only once in each columns that has it. so we can just remove the rows and then see if it cause any problem.\n",
    "\n",
    "before deleting i am merging the data and labels in one dataframe so that no incosistency happens."
   ]
  },
  {
   "cell_type": "code",
   "execution_count": null,
   "metadata": {},
   "outputs": [],
   "source": []
  },
  {
   "cell_type": "code",
   "execution_count": 5,
   "metadata": {},
   "outputs": [
    {
     "name": "stdout",
     "output_type": "stream",
     "text": [
      "Non-numeric values found in column 'F3': [nan '#value']\n",
      "Non-numeric values found in column 'F5': [nan '#value']\n",
      "Non-numeric values found in column 'F7': [nan '#value']\n",
      "Non-numeric values found in column 'F8': [nan '#value']\n",
      "Non-numeric values found in column 'F9': [nan '#value']\n",
      "Non-numeric values found in column 'F10': [nan '#value']\n",
      "Non-numeric values found in column 'F11': [nan '#value']\n",
      "Non-numeric values found in column 'F12': [nan '#value']\n",
      "Non-numeric values found in column 'F13': [nan '#value']\n",
      "Non-numeric values found in column 'F17': [nan '#value']\n",
      "Non-numeric values found in column 'F19': [nan '#value']\n",
      "Non-numeric values found in column 'F21': [nan '#value']\n",
      "Non-numeric values found in column 'F24': [nan '#value']\n",
      "Non-numeric values found in column 'F25': [nan '#value']\n",
      "Non-numeric values found in column 'F29': [nan '#value']\n",
      "Non-numeric values found in column 'F32': [nan '#value']\n",
      "Non-numeric values found in column 'F35': [nan '#value']\n",
      "Non-numeric values found in column 'F36': [nan '#value']\n",
      "Non-numeric values found in column 'F38': [nan '#value']\n",
      "Non-numeric values found in column 'F40': [nan '#value']\n",
      "Non-numeric values found in column 'F48': [nan '#value']\n",
      "Non-numeric values found in column 'F51': [nan '#value']\n",
      "Non-numeric values found in column 'F52': [nan '#value']\n",
      "Non-numeric values found in column 'F53': [nan '#value']\n",
      "Non-numeric values found in column 'F56': [nan '#value']\n",
      "Non-numeric values found in column 'F60': [nan '#value']\n",
      "Non-numeric values found in column 'F61': [nan '#value']\n",
      "Non-numeric values found in column 'F62': [nan '#value']\n",
      "Non-numeric values found in column 'F66': [nan '#value']\n",
      "Non-numeric values found in column 'F68': [nan '#value']\n",
      "Non-numeric values found in column 'F71': [nan '#value']\n",
      "Non-numeric values found in column 'F73': [nan '#value']\n",
      "Non-numeric values found in column 'F75': [nan '#value']\n",
      "Non-numeric values found in column 'F78': [nan '#value']\n",
      "Non-numeric values found in column 'F79': [nan '#value']\n",
      "Non-numeric values found in column 'F81': [nan '#value']\n",
      "Non-numeric values found in column 'F83': [nan '#value']\n",
      "Non-numeric values found in column 'Z1': [nan '#value']\n"
     ]
    }
   ],
   "source": [
    "# Define the columns to check for non-numeric values\n",
    "columns_to_check = data_df.columns[1:]\n",
    "\n",
    "# Initialize a dictionary to store non-numeric values\n",
    "non_numeric_values = {}\n",
    "\n",
    "# Iterate over the specified columns\n",
    "for col in columns_to_check:\n",
    "    # Use pd.to_numeric with errors='coerce' to convert the column to numeric, coercing errors to NaN\n",
    "    # Then, check for NaN values that indicate non-numeric entries\n",
    "    non_numeric_mask = pd.to_numeric(data_df[col], errors='coerce').isna()\n",
    "    \n",
    "    # Extract non-numeric values\n",
    "    if non_numeric_mask.any():\n",
    "        # Filter out 'nan' values\n",
    "        non_numeric_entries = data_df.loc[non_numeric_mask, col]\n",
    "        non_numeric_entries = non_numeric_entries[non_numeric_entries != 'nan']\n",
    "        \n",
    "        if non_numeric_entries.any():\n",
    "            non_numeric_values[col] = non_numeric_entries.unique()\n",
    "\n",
    "# Print non-numeric values if found\n",
    "if non_numeric_values:\n",
    "    for col, values in non_numeric_values.items():\n",
    "        print(f\"Non-numeric values found in column '{col}': {values}\")\n",
    "else:\n",
    "    print(\"No non-numeric values found in specified columns.\")"
   ]
  }
 ],
 "metadata": {
  "kernelspec": {
   "display_name": "venv",
   "language": "python",
   "name": "python3"
  },
  "language_info": {
   "codemirror_mode": {
    "name": "ipython",
    "version": 3
   },
   "file_extension": ".py",
   "mimetype": "text/x-python",
   "name": "python",
   "nbconvert_exporter": "python",
   "pygments_lexer": "ipython3",
   "version": "3.10.7"
  }
 },
 "nbformat": 4,
 "nbformat_minor": 2
}
